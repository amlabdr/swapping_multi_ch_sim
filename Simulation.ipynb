{
 "cells": [
  {
   "cell_type": "code",
   "execution_count": 4,
   "id": "284915ab",
   "metadata": {},
   "outputs": [],
   "source": [
    "from swapping_linkCapacity_swOrder import simulate"
   ]
  },
  {
   "cell_type": "code",
   "execution_count": 5,
   "id": "f094a06a",
   "metadata": {},
   "outputs": [
    {
     "name": "stdout",
     "output_type": "stream",
     "text": [
      "Swapping order:['r1', 'r3', 'r2'] => Expected Eg Rate = 1496.0\n"
     ]
    },
    {
     "data": {
      "text/plain": [
       "1496.0"
      ]
     },
     "execution_count": 5,
     "metadata": {},
     "output_type": "execute_result"
    }
   ],
   "source": [
    "network_config = \"networks/3RoutersMultiChannels.json\"\n",
    "\n",
    "# Nodei---r1---r2---r3---Nodej\n",
    "link_capacity = [6,7,8,9]\n",
    "simulate(network_config,link_capacity,swapping_order = [\"r1\",\"r3\",\"r2\"])"
   ]
  },
  {
   "cell_type": "code",
   "execution_count": null,
   "id": "bb967299",
   "metadata": {},
   "outputs": [],
   "source": []
  },
  {
   "cell_type": "code",
   "execution_count": null,
   "id": "a35f4723",
   "metadata": {},
   "outputs": [],
   "source": []
  }
 ],
 "metadata": {
  "kernelspec": {
   "display_name": "Python 3 (ipykernel)",
   "language": "python",
   "name": "python3"
  },
  "language_info": {
   "codemirror_mode": {
    "name": "ipython",
    "version": 3
   },
   "file_extension": ".py",
   "mimetype": "text/x-python",
   "name": "python",
   "nbconvert_exporter": "python",
   "pygments_lexer": "ipython3",
   "version": "3.9.15"
  }
 },
 "nbformat": 4,
 "nbformat_minor": 5
}
